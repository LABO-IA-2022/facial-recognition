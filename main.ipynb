{
 "cells": [
  {
   "cell_type": "code",
   "execution_count": 7,
   "id": "73b68643",
   "metadata": {},
   "outputs": [
    {
     "name": "stdout",
     "output_type": "stream",
     "text": [
      "[False]\n",
      "le visage  n'a pas été reconnu\n",
      "[False]\n",
      "le visage  n'a pas été reconnu\n",
      "[True]\n",
      "Le visage a été reconnu ./current_image/unknown.jpg ./image_known/biden.jpg\n",
      "[False]\n",
      "le visage  n'a pas été reconnu\n"
     ]
    }
   ],
   "source": [
    "import face_recognition\n",
    "import time\n",
    "import glob \n",
    "import os\n",
    "from os import listdir\n",
    "from os.path import isfile, join\n",
    "\n",
    "# we get the path of our know image \n",
    "cwd = ('./image_known/')\n",
    "path_know_image = [os.path.join(cwd, f) for f in os.listdir(cwd) if \n",
    "os.path.isfile(os.path.join(cwd, f))]\n",
    "#print( \"file\", path_know_image) \n",
    "\n",
    "# we get the path of our current image of the drone\n",
    "cwd = ('./current_image/')\n",
    "path_curent_image = [os.path.join(cwd, f) for f in os.listdir(cwd) if \n",
    "os.path.isfile(os.path.join(cwd, f))]\n",
    "#print( \"file\", path_know_image)\n",
    "for elt_current in path_curent_image:\n",
    "    for elt_know in path_know_image:\n",
    "        known_image = face_recognition.load_image_file(elt_know)\n",
    "        \n",
    "        # unknown image is the image we get from the drone\n",
    "        unknown_image = face_recognition.load_image_file(elt_current)\n",
    "        \n",
    "        knowImage_encoding = face_recognition.face_encodings(known_image)[0]\n",
    "        unknown_encoding = face_recognition.face_encodings(unknown_image)[0]\n",
    "        results = face_recognition.compare_faces([knowImage_encoding], unknown_encoding)\n",
    "\n",
    "        print(results)\n",
    "        if results[0] == True :\n",
    "            print(\"Le visage a été reconnu\", elt_current,elt_know)\n",
    "        else:\n",
    "            print(\"le visage  n'a pas été reconnu\")"
   ]
  },
  {
   "cell_type": "markdown",
   "id": "9a9c6081",
   "metadata": {},
   "source": []
  },
  {
   "cell_type": "code",
   "execution_count": null,
   "id": "d9bce213",
   "metadata": {},
   "outputs": [],
   "source": []
  },
  {
   "cell_type": "code",
   "execution_count": null,
   "id": "6b7a01d0",
   "metadata": {},
   "outputs": [],
   "source": []
  },
  {
   "cell_type": "code",
   "execution_count": null,
   "id": "623b13db",
   "metadata": {},
   "outputs": [],
   "source": []
  }
 ],
 "metadata": {
  "kernelspec": {
   "display_name": "Python 3.6.13 ('py36')",
   "language": "python",
   "name": "python3"
  },
  "language_info": {
   "codemirror_mode": {
    "name": "ipython",
    "version": 3
   },
   "file_extension": ".py",
   "mimetype": "text/x-python",
   "name": "python",
   "nbconvert_exporter": "python",
   "pygments_lexer": "ipython3",
   "version": "3.6.15"
  },
  "vscode": {
   "interpreter": {
    "hash": "aed693464ffb09e8e56d22b2615dcb6ae329c3117fc7cc9fbe83db85c3869f4b"
   }
  }
 },
 "nbformat": 4,
 "nbformat_minor": 5
}
